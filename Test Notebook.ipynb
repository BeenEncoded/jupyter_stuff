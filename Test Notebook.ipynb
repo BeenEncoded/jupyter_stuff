{
 "cells": [
  {
   "cell_type": "code",
   "execution_count": 3,
   "metadata": {},
   "outputs": [],
   "source": [
    "import requests, os, urllib\n",
    "\n",
    "def _requests_download(url, path: str=\"\") -> bool:\n",
    "    response = requests.get(url)\n",
    "    if response.status_code != 200:\n",
    "        print(f\"{url} RETURNED CODE {response.status_code}\")\n",
    "        return False\n",
    "    with open(path, 'w') as filehandle:\n",
    "        if not filehandle.closed:\n",
    "            filehandle.write(response)\n",
    "    return True\n",
    "\n",
    "def download_file(url, path: str=\"\") -> bool:\n",
    "    if os.path.isfile(path):\n",
    "        print(f\"Overwriting {path}\")\n",
    "    try:\n",
    "        _requests_download(url, path)\n",
    "    except InvalidSchema:\n",
    "        \n",
    "\n",
    "download_file(r\"ftp://ftp.ncdc.noaa.gov/pub/data/hourly_precip-3240/01/3240_01_1948-1998.tar.Z\", \"./test.tar.Z\")"
   ]
  },
  {
   "cell_type": "code",
   "execution_count": null,
   "metadata": {},
   "outputs": [],
   "source": []
  }
 ],
 "metadata": {
  "kernelspec": {
   "display_name": "Python 3",
   "language": "python",
   "name": "python3"
  },
  "language_info": {
   "codemirror_mode": {
    "name": "ipython",
    "version": 3
   },
   "file_extension": ".py",
   "mimetype": "text/x-python",
   "name": "python",
   "nbconvert_exporter": "python",
   "pygments_lexer": "ipython3",
   "version": "3.7.4-final"
  }
 },
 "nbformat": 4,
 "nbformat_minor": 4
}